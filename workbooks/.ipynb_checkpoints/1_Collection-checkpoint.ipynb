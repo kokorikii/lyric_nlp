{
 "cells": [
  {
   "cell_type": "code",
   "execution_count": 1,
   "metadata": {
    "executionInfo": {
     "elapsed": 545,
     "status": "ok",
     "timestamp": 1637769947475,
     "user": {
      "displayName": "Chad Richter",
      "photoUrl": "https://lh3.googleusercontent.com/a-/AOh14GjYJ-5A92GG5pG0N5KTIhUeXxnao-6CqFTc9Tu9DQ=s64",
      "userId": "05345888552597984132"
     },
     "user_tz": 420
    },
    "id": "lIU2oivYOBHw"
   },
   "outputs": [],
   "source": [
    "from bs4 import BeautifulSoup\n",
    "import pandas as pd\n",
    "import requests\n",
    "import lyricsgenius"
   ]
  },
  {
   "cell_type": "code",
   "execution_count": 2,
   "metadata": {
    "executionInfo": {
     "elapsed": 155,
     "status": "ok",
     "timestamp": 1637769949031,
     "user": {
      "displayName": "Chad Richter",
      "photoUrl": "https://lh3.googleusercontent.com/a-/AOh14GjYJ-5A92GG5pG0N5KTIhUeXxnao-6CqFTc9Tu9DQ=s64",
      "userId": "05345888552597984132"
     },
     "user_tz": 420
    },
    "id": "aJSqPSAwaqFA"
   },
   "outputs": [],
   "source": [
    "def scrape_songs(start_year, end_year, verbose = True):\n",
    "  '''Returns the Billboard Top 100 songs for the years between the specified start and end year'''\n",
    "  song_df = pd.DataFrame(columns =  ['artist_name', 'song_title', 'year'])\n",
    "  for year in range(start_year, end_year + 1):\n",
    "    if verbose:\n",
    "      print(f'bopping through {year}')\n",
    "    songs_list = []\n",
    "    artist_list = []\n",
    "    url = f'http://billboardtop100of.com/{year}-2/'\n",
    "    result = requests.get(url)\n",
    "    doc = BeautifulSoup(result.text, \"html.parser\")\n",
    "    lists = doc.find_all('tr')\n",
    "    for entry in lists:\n",
    "      song = entry.find_all('td')\n",
    "      songs_list.append(song[2].text)\n",
    "      artist_list.append(song[1].text)\n",
    "    df = pd.DataFrame(zip(artist_list, songs_list), columns = ['artist_name', 'song_title'])\n",
    "    df['year'] = year\n",
    "    song_df = song_df.append(df)\n",
    "  return song_df\n"
   ]
  },
  {
   "cell_type": "code",
   "execution_count": null,
   "metadata": {
    "id": "ROZJy4JXcgDf"
   },
   "outputs": [],
   "source": [
    "# songs from 2015 on have a different formatting on billboard.com and the function will need to be updated to accommodate. Stopping at 2014 for the time being.\n",
    "billboard_df = scrape_songs(1940, 2014)"
   ]
  },
  {
   "cell_type": "code",
   "execution_count": 4,
   "metadata": {
    "colab": {
     "base_uri": "https://localhost:8080/",
     "height": 279
    },
    "executionInfo": {
     "elapsed": 429,
     "status": "ok",
     "timestamp": 1637770094084,
     "user": {
      "displayName": "Chad Richter",
      "photoUrl": "https://lh3.googleusercontent.com/a-/AOh14GjYJ-5A92GG5pG0N5KTIhUeXxnao-6CqFTc9Tu9DQ=s64",
      "userId": "05345888552597984132"
     },
     "user_tz": 420
    },
    "id": "iTn5M-RaoHU9",
    "outputId": "095394db-7e26-40ab-e27d-63cab6d1c736"
   },
   "outputs": [
    {
     "data": {
      "image/png": "[encoded data removed]",
      "text/plain": [
       "<Figure size 432x288 with 1 Axes>"
      ]
     },
     "metadata": {
      "needs_background": "light"
     },
     "output_type": "display_data"
    }
   ],
   "source": [
    "billboard_df.groupby('year').count().plot();"
   ]
  },
  {
   "cell_type": "code",
   "execution_count": 5,
   "metadata": {
    "colab": {
     "base_uri": "https://localhost:8080/",
     "height": 423
    },
    "executionInfo": {
     "elapsed": 178,
     "status": "ok",
     "timestamp": 1637770106614,
     "user": {
      "displayName": "Chad Richter",
      "photoUrl": "https://lh3.googleusercontent.com/a-/AOh14GjYJ-5A92GG5pG0N5KTIhUeXxnao-6CqFTc9Tu9DQ=s64",
      "userId": "05345888552597984132"
     },
     "user_tz": 420
    },
    "id": "7AelXUEcsMQ_",
    "outputId": "7e60d5eb-2b8c-4127-bc2d-5c558a1881e2"
   },
   "outputs": [
    {
     "data": {
      "text/html": [
       "<div>\n",
       "<style scoped>\n",
       "    .dataframe tbody tr th:only-of-type {\n",
       "        vertical-align: middle;\n",
       "    }\n",
       "\n",
       "    .dataframe tbody tr th {\n",
       "        vertical-align: top;\n",
       "    }\n",
       "\n",
       "    .dataframe thead th {\n",
       "        text-align: right;\n",
       "    }\n",
       "</style>\n",
       "<table border=\"1\" class=\"dataframe\">\n",
       "  <thead>\n",
       "    <tr style=\"text-align: right;\">\n",
       "      <th></th>\n",
       "      <th>artist_name</th>\n",
       "      <th>song_title</th>\n",
       "      <th>year</th>\n",
       "    </tr>\n",
       "  </thead>\n",
       "  <tbody>\n",
       "    <tr>\n",
       "      <th>0</th>\n",
       "      <td>Glenn Miller</td>\n",
       "      <td>Chattanooga Choo Choo</td>\n",
       "      <td>1941</td>\n",
       "    </tr>\n",
       "    <tr>\n",
       "      <th>1</th>\n",
       "      <td>Sammy Kaye</td>\n",
       "      <td>Daddy</td>\n",
       "      <td>1941</td>\n",
       "    </tr>\n",
       "    <tr>\n",
       "      <th>2</th>\n",
       "      <td>Artie Shaw</td>\n",
       "      <td>Stardust</td>\n",
       "      <td>1941</td>\n",
       "    </tr>\n",
       "    <tr>\n",
       "      <th>3</th>\n",
       "      <td>The Andrews Sisters</td>\n",
       "      <td>Boogie Woogie Bugle Boy</td>\n",
       "      <td>1941</td>\n",
       "    </tr>\n",
       "    <tr>\n",
       "      <th>4</th>\n",
       "      <td>Jimmy Dorsey</td>\n",
       "      <td>Amapola (Pretty Little Poppy)</td>\n",
       "      <td>1941</td>\n",
       "    </tr>\n",
       "    <tr>\n",
       "      <th>...</th>\n",
       "      <td>...</td>\n",
       "      <td>...</td>\n",
       "      <td>...</td>\n",
       "    </tr>\n",
       "    <tr>\n",
       "      <th>95</th>\n",
       "      <td>Schoolboy Q feat. BJ The Chicago Kid</td>\n",
       "      <td>Studio</td>\n",
       "      <td>2014</td>\n",
       "    </tr>\n",
       "    <tr>\n",
       "      <th>96</th>\n",
       "      <td>Drake</td>\n",
       "      <td>0 To 100 / The Catch Up</td>\n",
       "      <td>2014</td>\n",
       "    </tr>\n",
       "    <tr>\n",
       "      <th>97</th>\n",
       "      <td>Lee Brice</td>\n",
       "      <td>I Don’t Dance</td>\n",
       "      <td>2014</td>\n",
       "    </tr>\n",
       "    <tr>\n",
       "      <th>98</th>\n",
       "      <td>Miranda Lambert and Carrie Underwood</td>\n",
       "      <td>Somethin’ Bad</td>\n",
       "      <td>2014</td>\n",
       "    </tr>\n",
       "    <tr>\n",
       "      <th>99</th>\n",
       "      <td>Miley Cyrus</td>\n",
       "      <td>Adore You</td>\n",
       "      <td>2014</td>\n",
       "    </tr>\n",
       "  </tbody>\n",
       "</table>\n",
       "<p>6304 rows × 3 columns</p>\n",
       "</div>"
      ],
      "text/plain": [
       "                             artist_name                     song_title  year\n",
       "0                           Glenn Miller          Chattanooga Choo Choo  1941\n",
       "1                             Sammy Kaye                          Daddy  1941\n",
       "2                             Artie Shaw                       Stardust  1941\n",
       "3                    The Andrews Sisters        Boogie Woogie Bugle Boy  1941\n",
       "4                           Jimmy Dorsey  Amapola (Pretty Little Poppy)  1941\n",
       "..                                   ...                            ...   ...\n",
       "95  Schoolboy Q feat. BJ The Chicago Kid                         Studio  2014\n",
       "96                                 Drake        0 To 100 / The Catch Up  2014\n",
       "97                             Lee Brice                  I Don’t Dance  2014\n",
       "98  Miranda Lambert and Carrie Underwood                  Somethin’ Bad  2014\n",
       "99                           Miley Cyrus                      Adore You  2014\n",
       "\n",
       "[6304 rows x 3 columns]"
      ]
     },
     "execution_count": 5,
     "metadata": {},
     "output_type": "execute_result"
    }
   ],
   "source": [
    "billboard_df"
   ]
  },
  {
   "cell_type": "code",
   "execution_count": 6,
   "metadata": {
    "executionInfo": {
     "elapsed": 144,
     "status": "ok",
     "timestamp": 1637770132151,
     "user": {
      "displayName": "Chad Richter",
      "photoUrl": "https://lh3.googleusercontent.com/a-/AOh14GjYJ-5A92GG5pG0N5KTIhUeXxnao-6CqFTc9Tu9DQ=s64",
      "userId": "05345888552597984132"
     },
     "user_tz": 420
    },
    "id": "eUqFuixrFBEy"
   },
   "outputs": [],
   "source": [
    "billboard_df.to_csv('../data/billboard_1941_2014.csv')"
   ]
  },
  {
   "cell_type": "code",
   "execution_count": null,
   "metadata": {
    "id": "Q6M_Fub8tS-u"
   },
   "outputs": [],
   "source": [
    "# !pip install lyricsgenius"
   ]
  },
  {
   "cell_type": "code",
   "execution_count": 9,
   "metadata": {
    "executionInfo": {
     "elapsed": 154,
     "status": "ok",
     "timestamp": 1637770205583,
     "user": {
      "displayName": "Chad Richter",
      "photoUrl": "https://lh3.googleusercontent.com/a-/AOh14GjYJ-5A92GG5pG0N5KTIhUeXxnao-6CqFTc9Tu9DQ=s64",
      "userId": "05345888552597984132"
     },
     "user_tz": 420
    },
    "id": "IWtiqPuLC3-4"
   },
   "outputs": [],
   "source": [
    "genius = lyricsgenius.Genius('YPoT8UrsgZHezNm8Xotm1ihyh8hbUuqcZbJYwQLtjAHyhxLjqztdcCKAxX2nL_Hw')"
   ]
  },
  {
   "cell_type": "code",
   "execution_count": 10,
   "metadata": {
    "executionInfo": {
     "elapsed": 149,
     "status": "ok",
     "timestamp": 1637770213099,
     "user": {
      "displayName": "Chad Richter",
      "photoUrl": "https://lh3.googleusercontent.com/a-/AOh14GjYJ-5A92GG5pG0N5KTIhUeXxnao-6CqFTc9Tu9DQ=s64",
      "userId": "05345888552597984132"
     },
     "user_tz": 420
    },
    "id": "PzdfNhw8GTNV"
   },
   "outputs": [],
   "source": [
    "def get_lyrics(dataframe):\n",
    "  lyric_list = []\n",
    "  for index, row in dataframe.iterrows():\n",
    "    # print(row['song_title'], row['artist_name'])\n",
    "    try:\n",
    "      song = genius.search_song(row['song_title'], artist = row['artist_name'])\n",
    "      song_lyrics = song.lyrics\n",
    "    # song_lyrics = re.sub(\"\\n\", \" \", song.lyrics)\n",
    "    except:\n",
    "      song_lyrics = \"null\"\n",
    "    lyric_list.append(song_lyrics)\n",
    "  return lyric_list"
   ]
  },
  {
   "cell_type": "code",
   "execution_count": 11,
   "metadata": {
    "colab": {
     "base_uri": "https://localhost:8080/"
    },
    "executionInfo": {
     "elapsed": 151,
     "status": "ok",
     "timestamp": 1637770220825,
     "user": {
      "displayName": "Chad Richter",
      "photoUrl": "https://lh3.googleusercontent.com/a-/AOh14GjYJ-5A92GG5pG0N5KTIhUeXxnao-6CqFTc9Tu9DQ=s64",
      "userId": "05345888552597984132"
     },
     "user_tz": 420
    },
    "id": "p0uLxJqOOjUU",
    "outputId": "f6b93699-d869-4f90-9288-c6b8bde4d89e"
   },
   "outputs": [
    {
     "data": {
      "text/plain": [
       "(6304, 3)"
      ]
     },
     "execution_count": 11,
     "metadata": {},
     "output_type": "execute_result"
    }
   ],
   "source": [
    "billboard_df.shape"
   ]
  },
  {
   "cell_type": "code",
   "execution_count": null,
   "metadata": {
    "id": "4QN7j5QUPluD"
   },
   "outputs": [],
   "source": [
    "billboard_lyrics = get_lyrics(billboard_df)"
   ]
  },
  {
   "cell_type": "code",
   "execution_count": 19,
   "metadata": {
    "colab": {
     "base_uri": "https://localhost:8080/"
    },
    "executionInfo": {
     "elapsed": 237,
     "status": "ok",
     "timestamp": 1637780608039,
     "user": {
      "displayName": "Chad Richter",
      "photoUrl": "https://lh3.googleusercontent.com/a-/AOh14GjYJ-5A92GG5pG0N5KTIhUeXxnao-6CqFTc9Tu9DQ=s64",
      "userId": "05345888552597984132"
     },
     "user_tz": 420
    },
    "id": "i99X_RyVP3Nb",
    "outputId": "c32a4df2-4076-4edd-dd60-deb855909854"
   },
   "outputs": [
    {
     "data": {
      "text/plain": [
       "6304"
      ]
     },
     "execution_count": 19,
     "metadata": {},
     "output_type": "execute_result"
    }
   ],
   "source": [
    "len(billboard_lyrics)"
   ]
  },
  {
   "cell_type": "code",
   "execution_count": 13,
   "metadata": {
    "executionInfo": {
     "elapsed": 1,
     "status": "ok",
     "timestamp": 1637780533034,
     "user": {
      "displayName": "Chad Richter",
      "photoUrl": "https://lh3.googleusercontent.com/a-/AOh14GjYJ-5A92GG5pG0N5KTIhUeXxnao-6CqFTc9Tu9DQ=s64",
      "userId": "05345888552597984132"
     },
     "user_tz": 420
    },
    "id": "Es7my4UFUFLz"
   },
   "outputs": [],
   "source": [
    "billboard_df['lyrics'] = billboard_lyrics\n",
    "\n",
    "billboard_df = billboard_df.replace(r'\\n',  ' ', regex=True)\n",
    "\n",
    "billboard_df.to_csv('../data/full_lyrics_1941_2014.csv')"
   ]
  }
 ],
 "metadata": {
  "colab": {
   "authorship_tag": "ABX9TyPytdzfQ7AFVDJi500uhiEl",
   "mount_file_id": "157hNI6XKM2VeoOoHiSyMk4TgD4pXpVBv",
   "name": "Captstone_data_collection_01.ipynb",
   "provenance": []
  },
  "kernelspec": {
   "display_name": "Python 3 (ipykernel)",
   "language": "python",
   "name": "python3"
  },
  "language_info": {
   "codemirror_mode": {
    "name": "ipython",
    "version": 3
   },
   "file_extension": ".py",
   "mimetype": "text/x-python",
   "name": "python",
   "nbconvert_exporter": "python",
   "pygments_lexer": "ipython3",
   "version": "3.9.7"
  }
 },
 "nbformat": 4,
 "nbformat_minor": 4
}
