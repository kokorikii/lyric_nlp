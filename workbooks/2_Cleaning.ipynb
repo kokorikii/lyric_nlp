{
 "cells": [
  {
   "cell_type": "markdown",
   "id": "56e26ff2-16b1-4ed1-a2b2-51fd6012004c",
   "metadata": {},
   "source": [
    "# Data Cleaning"
   ]
  },
  {
   "cell_type": "code",
   "execution_count": 46,
   "id": "5684895d-1e2d-4c8e-be87-a86056b94266",
   "metadata": {},
   "outputs": [],
   "source": [
    "import pandas as pd\n",
    "import numpy as np\n",
    "import matplotlib.pyplot as plt\n",
    "import seaborn as sns\n",
    "import re\n",
    "from better_profanity import profanity\n",
    "\n",
    "\n",
    "from nltk.tokenize import sent_tokenize, word_tokenize, RegexpTokenizer\n",
    "from nltk.corpus import stopwords\n",
    "from nltk.stem import WordNetLemmatizer\n",
    "\n",
    "pd.set_option('display.max_rows', 500)"
   ]
  },
  {
   "cell_type": "code",
   "execution_count": 47,
   "id": "b9094c93-506a-42cc-874a-d09c2cd91141",
   "metadata": {},
   "outputs": [],
   "source": [
    "lyric_df = pd.read_csv('../data/full_lyrics_1941_2014.csv')"
   ]
  },
  {
   "cell_type": "code",
   "execution_count": 48,
   "id": "9519bf1a-05bd-467c-ae96-ff48ab3700c2",
   "metadata": {},
   "outputs": [],
   "source": [
    "lyric_df.rename(columns = {'Unnamed: 0': 'song_rank'}, inplace = True)\n",
    "\n",
    "lyric_df['song_rank'] = lyric_df['song_rank'] + 1"
   ]
  },
  {
   "cell_type": "code",
   "execution_count": 50,
   "id": "d06782ce-cba6-445c-aac7-352dfa1e2b5a",
   "metadata": {},
   "outputs": [
    {
     "data": {
      "text/plain": [
       "(6304, 5)"
      ]
     },
     "execution_count": 50,
     "metadata": {},
     "output_type": "execute_result"
    }
   ],
   "source": [
    "lyric_df.shape"
   ]
  },
  {
   "cell_type": "code",
   "execution_count": 6,
   "id": "b2e6f910-045a-4e63-8539-591fc0f05c71",
   "metadata": {},
   "outputs": [
    {
     "name": "stdout",
     "output_type": "stream",
     "text": [
      "5.79% of lyric values are null\n"
     ]
    }
   ],
   "source": [
    "print(f\"{round(lyric_df['lyrics'].isnull().sum() / len(lyric_df) * 100, 2)}% of lyric values are null\")"
   ]
  },
  {
   "cell_type": "code",
   "execution_count": 51,
   "id": "fb65e281-eb48-4765-8f50-7b71756fb953",
   "metadata": {},
   "outputs": [],
   "source": [
    "# dropping null values as these are only ~5% of the total song dataset\n",
    "lyric_df = lyric_df.dropna()"
   ]
  },
  {
   "cell_type": "code",
   "execution_count": 8,
   "id": "f391dac5-3fa4-48db-93f1-1a15dd136ae9",
   "metadata": {},
   "outputs": [
    {
     "data": {
      "image/png": "[encoded data removed]",
      "text/plain": [
       "<Figure size 432x288 with 1 Axes>"
      ]
     },
     "metadata": {
      "needs_background": "light"
     },
     "output_type": "display_data"
    }
   ],
   "source": [
    "lyric_df.groupby('year')['year'].count().plot();"
   ]
  },
  {
   "cell_type": "code",
   "execution_count": 9,
   "id": "848bdba9-7f60-494d-87ad-08a0ad8741cf",
   "metadata": {},
   "outputs": [],
   "source": [
    "# lowercase all words in the lyrics column\n",
    "lyric_df['lyrics'] = lyric_df['lyrics'].str.lower()"
   ]
  },
  {
   "cell_type": "code",
   "execution_count": 10,
   "id": "24977fa1-dc69-42d3-a2b3-f84e70fecf6f",
   "metadata": {},
   "outputs": [],
   "source": [
    "# adding column indicating the decade that the song made the billboard top 100\n",
    "\n",
    "lyric_df['decade'] = (lyric_df['year']//10)*10 # integer divididing by 10 drops the year, multiplying by 10 again rounds the year to the nearest decade"
   ]
  },
  {
   "cell_type": "code",
   "execution_count": 56,
   "id": "3aff6fb4-e334-4242-965c-ee77caa23dfe",
   "metadata": {},
   "outputs": [
    {
     "data": {
      "text/html": [
       "<div>\n",
       "<style scoped>\n",
       "    .dataframe tbody tr th:only-of-type {\n",
       "        vertical-align: middle;\n",
       "    }\n",
       "\n",
       "    .dataframe tbody tr th {\n",
       "        vertical-align: top;\n",
       "    }\n",
       "\n",
       "    .dataframe thead th {\n",
       "        text-align: right;\n",
       "    }\n",
       "</style>\n",
       "<table border=\"1\" class=\"dataframe\">\n",
       "  <thead>\n",
       "    <tr style=\"text-align: right;\">\n",
       "      <th></th>\n",
       "      <th>song_rank</th>\n",
       "      <th>artist_name</th>\n",
       "      <th>song_title</th>\n",
       "      <th>year</th>\n",
       "      <th>lyrics</th>\n",
       "    </tr>\n",
       "  </thead>\n",
       "  <tbody>\n",
       "    <tr>\n",
       "      <th>0</th>\n",
       "      <td>1</td>\n",
       "      <td>Glenn Miller</td>\n",
       "      <td>Chattanooga Choo Choo</td>\n",
       "      <td>1941</td>\n",
       "      <td>Pardon me, boy Is that the Chattanooga choo ch...</td>\n",
       "    </tr>\n",
       "    <tr>\n",
       "      <th>1</th>\n",
       "      <td>2</td>\n",
       "      <td>Sammy Kaye</td>\n",
       "      <td>Daddy</td>\n",
       "      <td>1941</td>\n",
       "      <td>Ladada ladada da dada Ladada ladada da dada La...</td>\n",
       "    </tr>\n",
       "    <tr>\n",
       "      <th>2</th>\n",
       "      <td>3</td>\n",
       "      <td>Artie Shaw</td>\n",
       "      <td>Stardust</td>\n",
       "      <td>1941</td>\n",
       "      <td>And now the purple dusk of twilight time Steal...</td>\n",
       "    </tr>\n",
       "    <tr>\n",
       "      <th>3</th>\n",
       "      <td>4</td>\n",
       "      <td>The Andrews Sisters</td>\n",
       "      <td>Boogie Woogie Bugle Boy</td>\n",
       "      <td>1941</td>\n",
       "      <td>He was a famous trumpet man from out Chicago w...</td>\n",
       "    </tr>\n",
       "    <tr>\n",
       "      <th>5</th>\n",
       "      <td>6</td>\n",
       "      <td>Jimmy Dorsey</td>\n",
       "      <td>Green Eyes</td>\n",
       "      <td>1941</td>\n",
       "      <td>[Verse: Bob Eberly] Well, green eyes with thei...</td>\n",
       "    </tr>\n",
       "  </tbody>\n",
       "</table>\n",
       "</div>"
      ],
      "text/plain": [
       "   song_rank          artist_name               song_title  year  \\\n",
       "0          1         Glenn Miller    Chattanooga Choo Choo  1941   \n",
       "1          2           Sammy Kaye                    Daddy  1941   \n",
       "2          3           Artie Shaw                 Stardust  1941   \n",
       "3          4  The Andrews Sisters  Boogie Woogie Bugle Boy  1941   \n",
       "5          6         Jimmy Dorsey               Green Eyes  1941   \n",
       "\n",
       "                                              lyrics  \n",
       "0  Pardon me, boy Is that the Chattanooga choo ch...  \n",
       "1  Ladada ladada da dada Ladada ladada da dada La...  \n",
       "2  And now the purple dusk of twilight time Steal...  \n",
       "3  He was a famous trumpet man from out Chicago w...  \n",
       "5  [Verse: Bob Eberly] Well, green eyes with thei...  "
      ]
     },
     "execution_count": 56,
     "metadata": {},
     "output_type": "execute_result"
    }
   ],
   "source": [
    "lyric_df.head()"
   ]
  },
  {
   "cell_type": "markdown",
   "id": "8a7fb96a-5f51-43e4-ae39-4f1e5066efea",
   "metadata": {},
   "source": [
    "## Removing Annotation and API debris"
   ]
  },
  {
   "cell_type": "code",
   "execution_count": 12,
   "id": "585bf786-8747-4bed-8c8d-284124bd2c98",
   "metadata": {},
   "outputs": [],
   "source": [
    "lyric_df = lyric_df.replace(\"\\[.*?\\]\", \"\", regex = True)"
   ]
  },
  {
   "cell_type": "code",
   "execution_count": 13,
   "id": "4299fa4b-2f45-4f7b-bf25-25ead262af67",
   "metadata": {},
   "outputs": [],
   "source": [
    "lyric_df = lyric_df.replace(\"youembedshare\", \"\", regex = True) \n",
    "lyric_df = lyric_df.replace(\"embedshare\", \"\", regex = True)\n",
    "lyric_df = lyric_df.replace(\"yeahembedshare\", \"\", regex = True) \n",
    "lyric_df = lyric_df.replace(\"urlcopyembedcopy\", \"\", regex = True)"
   ]
  },
  {
   "cell_type": "markdown",
   "id": "a32d8589-365d-49de-ba86-0f1ed58e6f08",
   "metadata": {},
   "source": [
    "## Word/Character Counts & API Weirdness"
   ]
  },
  {
   "cell_type": "markdown",
   "id": "05163626-5bdb-44f1-a4c6-a09eddb0830a",
   "metadata": {},
   "source": [
    "The inclusion of a word count column has surfaced some irregularities with the Genius Lyric API. There are ~500 songs with excessive word counts (many greater than 100,000 words). These appear to be the text of screenplays, novels and poems that are completely unrelated to the song. As an example, the lyrics for the 1977 Star Wars theme (an instrumental, so I would have expected to not generate results) actually returned the entire text of a 1920 classic French novel 'The Guermantes Way'.\n",
    "<p>\n",
    "    It's unclear why this is happening. I had initially thought this may be placeholder text for instrumental songs, but this does not appear to be the case as songs with lyrics are also impacted. The incorrect lyrics also look to repeat, with some showing up on as many as five different songs. \n",
    "<p>\n",
    "    In order to correct for this I've removed all songs which returned lyrics with a word count greater than 1,100. This dropped the overall count from 6,304 to 5,366. While not ideal, this still leaves enough data to perform analysis and modeling. "
   ]
  },
  {
   "cell_type": "code",
   "execution_count": 14,
   "id": "63da7723-7a82-4c4b-8750-05fe6ae3489c",
   "metadata": {},
   "outputs": [],
   "source": [
    "# adding word count and unique word count for each song\n",
    "\n",
    "lyric_df['word_count']=[len(x.split()) for x in lyric_df['lyrics'].tolist()]"
   ]
  },
  {
   "cell_type": "code",
   "execution_count": 15,
   "id": "e33f53b2-a68d-48f4-9942-374904166990",
   "metadata": {},
   "outputs": [],
   "source": [
    "lyric_df['characters'] = lyric_df['lyrics'].apply(len)\n",
    "lyric_df['word_length'] = round(lyric_df['characters'] / (lyric_df['word_count']+1), 1)"
   ]
  },
  {
   "cell_type": "code",
   "execution_count": 17,
   "id": "2475c3ee-7f40-4a65-a3f2-fb0281dcb59c",
   "metadata": {},
   "outputs": [],
   "source": [
    "lyric_df.drop_duplicates(subset = ['lyrics'], keep = False, inplace = True)"
   ]
  },
  {
   "cell_type": "code",
   "execution_count": 18,
   "id": "65e4beb5-b593-467c-9391-3d9d4dff97b0",
   "metadata": {},
   "outputs": [
    {
     "data": {
      "text/html": [
       "<div>\n",
       "<style scoped>\n",
       "    .dataframe tbody tr th:only-of-type {\n",
       "        vertical-align: middle;\n",
       "    }\n",
       "\n",
       "    .dataframe tbody tr th {\n",
       "        vertical-align: top;\n",
       "    }\n",
       "\n",
       "    .dataframe thead th {\n",
       "        text-align: right;\n",
       "    }\n",
       "</style>\n",
       "<table border=\"1\" class=\"dataframe\">\n",
       "  <thead>\n",
       "    <tr style=\"text-align: right;\">\n",
       "      <th></th>\n",
       "      <th>song_rank</th>\n",
       "      <th>artist_name</th>\n",
       "      <th>song_title</th>\n",
       "      <th>year</th>\n",
       "      <th>lyrics</th>\n",
       "      <th>decade</th>\n",
       "      <th>word_count</th>\n",
       "      <th>characters</th>\n",
       "      <th>word_length</th>\n",
       "    </tr>\n",
       "  </thead>\n",
       "  <tbody>\n",
       "    <tr>\n",
       "      <th>2702</th>\n",
       "      <td>99</td>\n",
       "      <td>London Symphony Orchestra</td>\n",
       "      <td>Star Wars (Main Title)</td>\n",
       "      <td>1977</td>\n",
       "      <td>chapte...</td>\n",
       "      <td>1970</td>\n",
       "      <td>149170</td>\n",
       "      <td>825039</td>\n",
       "      <td>5.5</td>\n",
       "    </tr>\n",
       "    <tr>\n",
       "      <th>62</th>\n",
       "      <td>63</td>\n",
       "      <td>Harry James</td>\n",
       "      <td>By the Sleepy Lagoon</td>\n",
       "      <td>1941</td>\n",
       "      <td>madame s...</td>\n",
       "      <td>1940</td>\n",
       "      <td>96808</td>\n",
       "      <td>534728</td>\n",
       "      <td>5.5</td>\n",
       "    </tr>\n",
       "    <tr>\n",
       "      <th>829</th>\n",
       "      <td>26</td>\n",
       "      <td>Crests</td>\n",
       "      <td>16 Candles</td>\n",
       "      <td>1959</td>\n",
       "      <td>tale of king omar bin al-nu'uman and his sons ...</td>\n",
       "      <td>1950</td>\n",
       "      <td>95916</td>\n",
       "      <td>521888</td>\n",
       "      <td>5.4</td>\n",
       "    </tr>\n",
       "    <tr>\n",
       "      <th>195</th>\n",
       "      <td>36</td>\n",
       "      <td>Andrews Sisters and Les Paul Trio</td>\n",
       "      <td>Rumors Are Flying</td>\n",
       "      <td>1946</td>\n",
       "      <td>chapter two  the mysteries of albertine — the ...</td>\n",
       "      <td>1940</td>\n",
       "      <td>84663</td>\n",
       "      <td>470283</td>\n",
       "      <td>5.6</td>\n",
       "    </tr>\n",
       "    <tr>\n",
       "      <th>272</th>\n",
       "      <td>18</td>\n",
       "      <td>Francis Craig</td>\n",
       "      <td>Beg Your Pardon</td>\n",
       "      <td>1948</td>\n",
       "      <td>a sentimental journey through france and italy...</td>\n",
       "      <td>1940</td>\n",
       "      <td>42195</td>\n",
       "      <td>216386</td>\n",
       "      <td>5.1</td>\n",
       "    </tr>\n",
       "  </tbody>\n",
       "</table>\n",
       "</div>"
      ],
      "text/plain": [
       "      song_rank                        artist_name              song_title  \\\n",
       "2702         99          London Symphony Orchestra  Star Wars (Main Title)   \n",
       "62           63                        Harry James    By the Sleepy Lagoon   \n",
       "829          26                             Crests              16 Candles   \n",
       "195          36  Andrews Sisters and Les Paul Trio       Rumors Are Flying   \n",
       "272          18                      Francis Craig         Beg Your Pardon   \n",
       "\n",
       "      year                                             lyrics  decade  \\\n",
       "2702  1977                                          chapte...    1970   \n",
       "62    1941                                        madame s...    1940   \n",
       "829   1959  tale of king omar bin al-nu'uman and his sons ...    1950   \n",
       "195   1946  chapter two  the mysteries of albertine — the ...    1940   \n",
       "272   1948  a sentimental journey through france and italy...    1940   \n",
       "\n",
       "      word_count  characters  word_length  \n",
       "2702      149170      825039          5.5  \n",
       "62         96808      534728          5.5  \n",
       "829        95916      521888          5.4  \n",
       "195        84663      470283          5.6  \n",
       "272        42195      216386          5.1  "
      ]
     },
     "execution_count": 18,
     "metadata": {},
     "output_type": "execute_result"
    }
   ],
   "source": [
    "lyric_df.sort_values(by = 'word_count', ascending = False).head()"
   ]
  },
  {
   "cell_type": "code",
   "execution_count": 19,
   "id": "33801d08-c2ad-4fc9-bbef-24a5ebbe749e",
   "metadata": {},
   "outputs": [],
   "source": [
    "lyric_df = lyric_df[lyric_df['word_count'] < 1100]"
   ]
  },
  {
   "cell_type": "code",
   "execution_count": 20,
   "id": "3fc796cc-8333-4cf7-b312-281cbfed5a4e",
   "metadata": {},
   "outputs": [
    {
     "data": {
      "text/plain": [
       "(5369, 9)"
      ]
     },
     "execution_count": 20,
     "metadata": {},
     "output_type": "execute_result"
    }
   ],
   "source": [
    "lyric_df.shape"
   ]
  },
  {
   "cell_type": "code",
   "execution_count": 21,
   "id": "926bfb4d-82d9-4701-8769-43ce9ef35424",
   "metadata": {},
   "outputs": [
    {
     "data": {
      "text/html": [
       "<div>\n",
       "<style scoped>\n",
       "    .dataframe tbody tr th:only-of-type {\n",
       "        vertical-align: middle;\n",
       "    }\n",
       "\n",
       "    .dataframe tbody tr th {\n",
       "        vertical-align: top;\n",
       "    }\n",
       "\n",
       "    .dataframe thead th {\n",
       "        text-align: right;\n",
       "    }\n",
       "</style>\n",
       "<table border=\"1\" class=\"dataframe\">\n",
       "  <thead>\n",
       "    <tr style=\"text-align: right;\">\n",
       "      <th></th>\n",
       "      <th>song_rank</th>\n",
       "      <th>artist_name</th>\n",
       "      <th>song_title</th>\n",
       "      <th>year</th>\n",
       "      <th>lyrics</th>\n",
       "      <th>decade</th>\n",
       "      <th>word_count</th>\n",
       "      <th>characters</th>\n",
       "      <th>word_length</th>\n",
       "    </tr>\n",
       "  </thead>\n",
       "  <tbody>\n",
       "    <tr>\n",
       "      <th>5362</th>\n",
       "      <td>59</td>\n",
       "      <td>D12</td>\n",
       "      <td>My Band</td>\n",
       "      <td>2004</td>\n",
       "      <td>i don't know, dude i think everybody's all je...</td>\n",
       "      <td>2000</td>\n",
       "      <td>1088</td>\n",
       "      <td>5502</td>\n",
       "      <td>5.1</td>\n",
       "    </tr>\n",
       "    <tr>\n",
       "      <th>5319</th>\n",
       "      <td>16</td>\n",
       "      <td>Twista feat. Kanye West and Jamie Foxx</td>\n",
       "      <td>Slow Jamz</td>\n",
       "      <td>2004</td>\n",
       "      <td>kanye, it's foxx, man i'm just sayin' i was t...</td>\n",
       "      <td>2000</td>\n",
       "      <td>1088</td>\n",
       "      <td>5495</td>\n",
       "      <td>5.0</td>\n",
       "    </tr>\n",
       "    <tr>\n",
       "      <th>5301</th>\n",
       "      <td>98</td>\n",
       "      <td>Eminem</td>\n",
       "      <td>Superman</td>\n",
       "      <td>2003</td>\n",
       "      <td>mhmmm *inhales* you high, baby? yeah yeah? ta...</td>\n",
       "      <td>2000</td>\n",
       "      <td>1083</td>\n",
       "      <td>5661</td>\n",
       "      <td>5.2</td>\n",
       "    </tr>\n",
       "    <tr>\n",
       "      <th>1557</th>\n",
       "      <td>54</td>\n",
       "      <td>Simon and Garfunkel</td>\n",
       "      <td>The Sounds Of Silence</td>\n",
       "      <td>1966</td>\n",
       "      <td>sitting now at the san jose airport, waiting f...</td>\n",
       "      <td>1960</td>\n",
       "      <td>1055</td>\n",
       "      <td>5602</td>\n",
       "      <td>5.3</td>\n",
       "    </tr>\n",
       "    <tr>\n",
       "      <th>4396</th>\n",
       "      <td>93</td>\n",
       "      <td>Ahmad</td>\n",
       "      <td>Back In The Day</td>\n",
       "      <td>1994</td>\n",
       "      <td>back in the days when i was young i'm not a k...</td>\n",
       "      <td>1990</td>\n",
       "      <td>1052</td>\n",
       "      <td>4943</td>\n",
       "      <td>4.7</td>\n",
       "    </tr>\n",
       "  </tbody>\n",
       "</table>\n",
       "</div>"
      ],
      "text/plain": [
       "      song_rank                             artist_name  \\\n",
       "5362         59                                     D12   \n",
       "5319         16  Twista feat. Kanye West and Jamie Foxx   \n",
       "5301         98                                  Eminem   \n",
       "1557         54                     Simon and Garfunkel   \n",
       "4396         93                                   Ahmad   \n",
       "\n",
       "                 song_title  year  \\\n",
       "5362                My Band  2004   \n",
       "5319              Slow Jamz  2004   \n",
       "5301               Superman  2003   \n",
       "1557  The Sounds Of Silence  1966   \n",
       "4396        Back In The Day  1994   \n",
       "\n",
       "                                                 lyrics  decade  word_count  \\\n",
       "5362   i don't know, dude i think everybody's all je...    2000        1088   \n",
       "5319   kanye, it's foxx, man i'm just sayin' i was t...    2000        1088   \n",
       "5301   mhmmm *inhales* you high, baby? yeah yeah? ta...    2000        1083   \n",
       "1557  sitting now at the san jose airport, waiting f...    1960        1055   \n",
       "4396   back in the days when i was young i'm not a k...    1990        1052   \n",
       "\n",
       "      characters  word_length  \n",
       "5362        5502          5.1  \n",
       "5319        5495          5.0  \n",
       "5301        5661          5.2  \n",
       "1557        5602          5.3  \n",
       "4396        4943          4.7  "
      ]
     },
     "execution_count": 21,
     "metadata": {},
     "output_type": "execute_result"
    }
   ],
   "source": [
    "lyric_df.sort_values(by = 'word_count', ascending = False).head()"
   ]
  },
  {
   "cell_type": "markdown",
   "id": "c7083c78-6fb3-420a-99f4-34cce568494e",
   "metadata": {},
   "source": [
    "## Lemmatize and Remove Punctuation"
   ]
  },
  {
   "cell_type": "code",
   "execution_count": 23,
   "id": "9c313dca-2c5e-4164-b7b4-66aa4145045b",
   "metadata": {},
   "outputs": [],
   "source": [
    "# Function to clean and separate titles using regex, and then Stem/Lem the cleaned text and filter stop words. Courtesy Breakfast Hour lesson. Thanks Katie!\n",
    "def cleaner_rev(review):\n",
    "    # Set token & instantiate Lem/Stem\n",
    "    lemmatizer = WordNetLemmatizer()\n",
    "    my_tokenizer = RegexpTokenizer(\"[\\w']+|\\$[\\d\\.]+\") \n",
    "    \n",
    "    # Tokenize words\n",
    "    words = my_tokenizer.tokenize(review.lower())\n",
    "    # What about stop words??\n",
    "    stop_word_list = stopwords.words('english')\n",
    "    no_stops = [i for i in words if i not in stop_word_list]\n",
    "    # Lem/Stem\n",
    "    rev_lem = [lemmatizer.lemmatize(i) for i in no_stops]\n",
    "    # Put words back together\n",
    "    return ' '.join(rev_lem)"
   ]
  },
  {
   "cell_type": "code",
   "execution_count": 24,
   "id": "7ab0ec1d-ac9c-415e-91f6-be376ccae261",
   "metadata": {},
   "outputs": [
    {
     "name": "stderr",
     "output_type": "stream",
     "text": [
      "/var/folders/x1/nngn1kws60393982xbp6dwyc0000gn/T/ipykernel_32782/54294245.py:2: SettingWithCopyWarning: \n",
      "A value is trying to be set on a copy of a slice from a DataFrame.\n",
      "Try using .loc[row_indexer,col_indexer] = value instead\n",
      "\n",
      "See the caveats in the documentation: https://pandas.pydata.org/pandas-docs/stable/user_guide/indexing.html#returning-a-view-versus-a-copy\n",
      "  lyric_df['clean_lyrics'] = lyric_df['lyrics'].map(cleaner_rev)\n"
     ]
    }
   ],
   "source": [
    "# adding column of the cleaned lyrics\n",
    "lyric_df['clean_lyrics'] = lyric_df['lyrics'].map(cleaner_rev)"
   ]
  },
  {
   "cell_type": "markdown",
   "id": "04953400-321d-441e-81e1-89cbac55da3f",
   "metadata": {},
   "source": [
    "## Adding Profanity Check"
   ]
  },
  {
   "cell_type": "code",
   "execution_count": 26,
   "id": "c85afc4e-a43c-42d6-adea-f0cc6ec50e2e",
   "metadata": {},
   "outputs": [
    {
     "name": "stderr",
     "output_type": "stream",
     "text": [
      "/var/folders/x1/nngn1kws60393982xbp6dwyc0000gn/T/ipykernel_32782/1443096844.py:1: SettingWithCopyWarning: \n",
      "A value is trying to be set on a copy of a slice from a DataFrame.\n",
      "Try using .loc[row_indexer,col_indexer] = value instead\n",
      "\n",
      "See the caveats in the documentation: https://pandas.pydata.org/pandas-docs/stable/user_guide/indexing.html#returning-a-view-versus-a-copy\n",
      "  lyric_df['profanity'] = lyric_df['clean_lyrics'].apply(lambda x: profanity.contains_profanity(x))\n"
     ]
    }
   ],
   "source": [
    "lyric_df['profanity'] = lyric_df['clean_lyrics'].apply(lambda x: profanity.contains_profanity(x))"
   ]
  },
  {
   "cell_type": "code",
   "execution_count": 31,
   "id": "91abee63-1654-4acb-bdb0-4ba63fa6ad4b",
   "metadata": {},
   "outputs": [
    {
     "name": "stderr",
     "output_type": "stream",
     "text": [
      "/var/folders/x1/nngn1kws60393982xbp6dwyc0000gn/T/ipykernel_32782/1006202724.py:1: SettingWithCopyWarning: \n",
      "A value is trying to be set on a copy of a slice from a DataFrame.\n",
      "Try using .loc[row_indexer,col_indexer] = value instead\n",
      "\n",
      "See the caveats in the documentation: https://pandas.pydata.org/pandas-docs/stable/user_guide/indexing.html#returning-a-view-versus-a-copy\n",
      "  lyric_df['suggestive'] = np.where(lyric_df['profanity'] == True, 1, 0)\n"
     ]
    }
   ],
   "source": [
    "lyric_df['suggestive'] = np.where(lyric_df['profanity'] == True, 1, 0)"
   ]
  },
  {
   "cell_type": "code",
   "execution_count": 33,
   "id": "aa1203d2-2e25-44eb-90fb-5e9328cbc882",
   "metadata": {},
   "outputs": [
    {
     "data": {
      "image/png": "[encoded data removed]",
      "text/plain": [
       "<Figure size 432x288 with 1 Axes>"
      ]
     },
     "metadata": {
      "needs_background": "light"
     },
     "output_type": "display_data"
    }
   ],
   "source": [
    "lyric_df.groupby('year')['year'].count().plot();"
   ]
  },
  {
   "cell_type": "code",
   "execution_count": 35,
   "id": "45b76536-6ed2-4cbe-b7b1-4cdc9b2ebd73",
   "metadata": {},
   "outputs": [
    {
     "data": {
      "image/png": "[encoded data removed]",
      "text/plain": [
       "<Figure size 432x288 with 1 Axes>"
      ]
     },
     "metadata": {
      "needs_background": "light"
     },
     "output_type": "display_data"
    }
   ],
   "source": [
    "lyric_df.groupby('decade')['decade'].count().plot(kind = 'bar');"
   ]
  },
  {
   "cell_type": "code",
   "execution_count": 32,
   "id": "c5bb8d91-d2b4-4566-b4b4-da367a71beff",
   "metadata": {},
   "outputs": [],
   "source": [
    "lyric_df.to_csv('../data/lyrics_clean.csv')"
   ]
  }
 ],
 "metadata": {
  "kernelspec": {
   "display_name": "Python 3 (ipykernel)",
   "language": "python",
   "name": "python3"
  },
  "language_info": {
   "codemirror_mode": {
    "name": "ipython",
    "version": 3
   },
   "file_extension": ".py",
   "mimetype": "text/x-python",
   "name": "python",
   "nbconvert_exporter": "python",
   "pygments_lexer": "ipython3",
   "version": "3.9.7"
  }
 },
 "nbformat": 4,
 "nbformat_minor": 5
}
